{
 "cells": [
  {
   "cell_type": "code",
   "execution_count": 1,
   "metadata": {},
   "outputs": [
    {
     "name": "stdout",
     "output_type": "stream",
     "text": [
      "              sRNA             Gene\n",
      "0       28S.rRNA.1  ENSG00000118162\n",
      "1       28S.rRNA.1  ENSG00000130643\n",
      "2       28S.rRNA.1  ENSG00000292214\n",
      "3       28S.rRNA.1  ENSG00000237703\n",
      "4       28S.rRNA.1  ENSG00000161013\n",
      "...            ...              ...\n",
      "1275  5.8S.rRNA.10  ENSG00000140968\n",
      "1276  5.8S.rRNA.10  ENSG00000197283\n",
      "1277  5.8S.rRNA.10  ENSG00000107099\n",
      "1278  5.8S.rRNA.10  ENSG00000258366\n",
      "1279  5.8S.rRNA.10  ENSG00000185024\n",
      "\n",
      "[1280 rows x 2 columns]\n"
     ]
    }
   ],
   "source": [
    "import pandas as pd\n",
    "\n",
    "# 读取 CSV 文件\n",
    "hybrid_result_df = pd.read_csv('./hybrid_result.csv')\n",
    "miranda_result_df = pd.read_csv('./miranda_TidyResult.csv')\n",
    "\n",
    "# 筛选 Energy 小于 -20 的行\n",
    "miranda_result_df = miranda_result_df[miranda_result_df['Energy'] < -20]\n",
    "\n",
    "# 获取所有独特的 sRNAs\n",
    "sRNAs_list = hybrid_result_df['sRNAs'].unique()\n",
    "\n",
    "# 用来保存结果的列表\n",
    "result = []\n",
    "\n",
    "# 遍历所有sRNAs，找交集\n",
    "for srna in sRNAs_list:\n",
    "    # 获取该sRNAs在hybrid_result_df中的Gene\n",
    "    hybrid_genes = set(hybrid_result_df[hybrid_result_df['sRNAs'] == srna]['Gene'])\n",
    "    \n",
    "    # 获取该sRNAs在miranda_result_df中的Gene\n",
    "    miranda_genes = set(miranda_result_df[miranda_result_df['sRNAs'] == srna]['Gene'])\n",
    "    \n",
    "    # 计算交集\n",
    "    intersect_genes = hybrid_genes.intersection(miranda_genes)\n",
    "    \n",
    "    # 如果交集不为空，保存每个基因\n",
    "    for gene in intersect_genes:\n",
    "        result.append([srna, gene])\n",
    "\n",
    "# 将结果转换为 DataFrame\n",
    "result_df = pd.DataFrame(result, columns=['sRNA', 'Gene'])\n",
    "\n",
    "result_df.to_csv('./sRNA_gene_intersection.csv', index=False)\n",
    "\n",
    "# 显示结果（或调试）\n",
    "print(result_df)"
   ]
  },
  {
   "cell_type": "code",
   "execution_count": 2,
   "metadata": {},
   "outputs": [
    {
     "name": "stdout",
     "output_type": "stream",
     "text": [
      "Processed: ./bd_hc_opposite_gene.txt -> ./modified_bd_hc_opposite_gene.txt\n"
     ]
    }
   ],
   "source": [
    "import os\n",
    "\n",
    "# 设置文件夹路径\n",
    "folder_path = \"./\"\n",
    "\n",
    "# 遍历文件夹中的每一个文件\n",
    "for filename in os.listdir(folder_path):\n",
    "    # 检查文件是否是.txt文件\n",
    "    if filename.endswith(\".txt\"):\n",
    "        # 构建完整的输入和输出文件路径\n",
    "        input_file = os.path.join(folder_path, filename)\n",
    "        output_file = os.path.join(folder_path, f\"modified_{filename}\")\n",
    "\n",
    "        # 读取文件并在每行前加Tab\n",
    "        with open(input_file, 'r', encoding='utf-8') as f_in, open(output_file, 'w', encoding='utf-8') as f_out:\n",
    "            for line in f_in:\n",
    "                f_out.write('\\t' + line)\n",
    "\n",
    "        print(f\"Processed: {input_file} -> {output_file}\")\n"
   ]
  },
  {
   "cell_type": "code",
   "execution_count": 2,
   "metadata": {},
   "outputs": [
    {
     "name": "stdout",
     "output_type": "stream",
     "text": [
      "Processed: ./all\\all_gene.txt -> ./all\\modified_all_gene.txt\n"
     ]
    }
   ],
   "source": [
    "import os\n",
    "\n",
    "# 设置文件夹路径\n",
    "folder_path = \"./all\"\n",
    "\n",
    "# 遍历文件夹中的每一个文件\n",
    "for filename in os.listdir(folder_path):\n",
    "    # 检查文件是否是.txt文件\n",
    "    if filename.endswith(\".txt\"):\n",
    "        # 构建完整的输入和输出文件路径\n",
    "        input_file = os.path.join(folder_path, filename)\n",
    "        output_file = os.path.join(folder_path, f\"modified_{filename}\")\n",
    "\n",
    "        # 读取文件并在每行前加Tab\n",
    "        with open(input_file, 'r', encoding='utf-8') as f_in, open(output_file, 'w', encoding='utf-8') as f_out:\n",
    "            for line in f_in:\n",
    "                f_out.write('\\t' + line)\n",
    "\n",
    "        print(f\"Processed: {input_file} -> {output_file}\")"
   ]
  },
  {
   "cell_type": "code",
   "execution_count": 9,
   "metadata": {},
   "outputs": [
    {
     "name": "stdout",
     "output_type": "stream",
     "text": [
      "BD特有基因已保存到 bd_unique_genes.csv\n"
     ]
    }
   ],
   "source": [
    "import pandas as pd\n",
    "\n",
    "# 读取CSV文件\n",
    "df = pd.read_csv(\"./bd_specific_mirna/bd_specific_gene.csv\")\n",
    "\n",
    "# 提取BD和HC基因列\n",
    "bd_genes = set(df[\"bd\"].dropna())  # 去除空值并转换为集合\n",
    "hc_genes = set(df[\"hc\"].dropna())  # 去除空值并转换为集合\n",
    "\n",
    "# 找出BD特有基因\n",
    "bd_unique_genes = bd_genes - hc_genes\n",
    "\n",
    "# 将结果保存为新的DataFrame\n",
    "result_df = pd.DataFrame({\"BD特有基因\": list(bd_unique_genes)})\n",
    "\n",
    "# 保存结果到新的CSV文件\n",
    "result_df.to_csv(\"./bd_specific_mirna/bd_unique_genes.txt\", index=False, sep=\"\\t\")\n",
    "\n",
    "print(\"BD特有基因已保存到 bd_unique_genes.csv\")"
   ]
  },
  {
   "cell_type": "code",
   "execution_count": 10,
   "metadata": {},
   "outputs": [
    {
     "name": "stdout",
     "output_type": "stream",
     "text": [
      "Processed: ./bd_specific_mirna/bd_unique_genes.txt -> ./bd_specific_mirna/modified_bd_unique_genes.txt\n"
     ]
    }
   ],
   "source": [
    "import os\n",
    "\n",
    "# 设置文件夹路径\n",
    "folder_path = \"./bd_specific_mirna/\"\n",
    "\n",
    "# 遍历文件夹中的每一个文件\n",
    "for filename in os.listdir(folder_path):\n",
    "    # 检查文件是否是.txt文件\n",
    "    if filename.endswith(\".txt\"):\n",
    "        # 构建完整的输入和输出文件路径\n",
    "        input_file = os.path.join(folder_path, filename)\n",
    "        output_file = os.path.join(folder_path, f\"modified_{filename}\")\n",
    "\n",
    "        # 读取文件并在每行前加Tab\n",
    "        with open(input_file, 'r', encoding='utf-8') as f_in, open(output_file, 'w', encoding='utf-8') as f_out:\n",
    "            for line in f_in:\n",
    "                f_out.write('\\t' + line)\n",
    "\n",
    "        print(f\"Processed: {input_file} -> {output_file}\")"
   ]
  },
  {
   "cell_type": "markdown",
   "metadata": {},
   "source": [
    "## Enrich GO\n",
    "\n",
    "```bash\n",
    "cd /mnt/e/adolescent_dep/target/mirna\n",
    "\n",
    "ref=/mnt/d/adult_dep/DE2/MDD_hc_mirna/ning/up\n",
    "for i in modified_*.txt;do\n",
    "  python ../enrichgo.py ${ref}/goa_human.gaf ${ref}/go.obo ${ref}/uniprot-proteome_UP000005640_reviewed_yes.fasta ${i} ${i%%.*}_go.txt\n",
    "done\n",
    "\n",
    "\n",
    "cd /mnt/e/adolescent_dep/target/all\n",
    "\n",
    "ref=/mnt/d/adult_dep/DE2/MDD_hc_mirna/ning/up\n",
    "for i in modified_*.txt;do\n",
    "  python ../enrichgo.py ${ref}/goa_human.gaf ${ref}/go.obo ${ref}/uniprot-proteome_UP000005640_reviewed_yes.fasta ${i} ${i%%.*}_go.txt\n",
    "done\n",
    "```"
   ]
  },
  {
   "cell_type": "markdown",
   "metadata": {},
   "source": [
    "# ALL_GO分析"
   ]
  },
  {
   "cell_type": "code",
   "execution_count": 21,
   "metadata": {},
   "outputs": [
    {
     "name": "stdout",
     "output_type": "stream",
     "text": [
      "delong_summary.csv 中的基因已保存到 D:/adult_dep/penal_target/all_go/delong_summary_genes.txt\n"
     ]
    }
   ],
   "source": [
    "import os\n",
    "import pandas as pd\n",
    "\n",
    "# 设置文件夹路径\n",
    "folder_path = 'D:/adult_dep/penal_target/all_go/'  # 替换成你的文件夹路径\n",
    "\n",
    "# 获取文件夹内所有csv文件\n",
    "csv_files = [f for f in os.listdir(folder_path) if f.endswith('_summary.csv')]\n",
    "\n",
    "# 遍历每个CSV文件\n",
    "for csv_file in csv_files:\n",
    "    file_path = os.path.join(folder_path, csv_file)\n",
    "    \n",
    "    # 读取CSV文件，并指定分隔符为逗号\n",
    "    df = pd.read_csv(file_path)\n",
    "    \n",
    "    # 检查是否包含 'target_symbol' 列\n",
    "    if 'target_symbol' in df.columns:\n",
    "        # 提取并去除空值，去重\n",
    "        genes = df['target_symbol'].dropna().unique()\n",
    "        \n",
    "        # 将基因名称中的逗号替换为制表符\n",
    "        genes = [gene.replace(',', '\\t') for gene in genes]\n",
    "        \n",
    "        # 构造输出文件路径（保存在同一文件夹内）\n",
    "        output_file = os.path.join(folder_path, f\"{os.path.splitext(csv_file)[0]}_genes.txt\")\n",
    "        \n",
    "        # 将基因名保存到相应的TXT文件\n",
    "        with open(output_file, 'w') as f:\n",
    "            for gene in sorted(genes):\n",
    "                f.write(f\"{gene}\\n\")\n",
    "        \n",
    "        print(f\"{csv_file} 中的基因已保存到 {output_file}\")\n",
    "    else:\n",
    "        print(f\"警告: 文件 {csv_file} 中没有 'target_symbol' 列\")"
   ]
  }
 ],
 "metadata": {
  "kernelspec": {
   "display_name": "base",
   "language": "python",
   "name": "python3"
  },
  "language_info": {
   "codemirror_mode": {
    "name": "ipython",
    "version": 3
   },
   "file_extension": ".py",
   "mimetype": "text/x-python",
   "name": "python",
   "nbconvert_exporter": "python",
   "pygments_lexer": "ipython3",
   "version": "3.11.5"
  }
 },
 "nbformat": 4,
 "nbformat_minor": 2
}
